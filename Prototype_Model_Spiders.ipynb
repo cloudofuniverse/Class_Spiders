{
 "cells": [
  {
   "cell_type": "code",
   "execution_count": 1,
   "id": "cbf0de6f",
   "metadata": {},
   "outputs": [
    {
     "name": "stderr",
     "output_type": "stream",
     "text": [
      "Enabling: voila\n",
      "- Writing config: C:\\Users\\edcws\\Anaconda3\\etc\\jupyter\n",
      "    - Validating...\n",
      "      voila 0.2.16 ok\n"
     ]
    }
   ],
   "source": [
    "!jupyter serverextension enable --sys-prefix voila"
   ]
  },
  {
   "cell_type": "code",
   "execution_count": 2,
   "id": "af441e1a",
   "metadata": {},
   "outputs": [],
   "source": [
    "from ipywidgets import widgets\n",
    "from fastai.vision.all import PILImage\n",
    "from fastai.vision.all import load_learner\n",
    "from ipywidgets import VBox"
   ]
  },
  {
   "cell_type": "code",
   "execution_count": 3,
   "id": "e8278adb",
   "metadata": {},
   "outputs": [],
   "source": [
    "spider_class = load_learner('models/spider_prot.pkl')"
   ]
  },
  {
   "cell_type": "code",
   "execution_count": 4,
   "id": "39f14431",
   "metadata": {},
   "outputs": [],
   "source": [
    "upload = widgets.FileUpload()"
   ]
  },
  {
   "cell_type": "code",
   "execution_count": 5,
   "id": "c69f6cc5",
   "metadata": {},
   "outputs": [],
   "source": [
    "out_pl = widgets.Output()"
   ]
  },
  {
   "cell_type": "code",
   "execution_count": 6,
   "id": "1143a6da",
   "metadata": {},
   "outputs": [],
   "source": [
    "label_ = widgets.Label()"
   ]
  },
  {
   "cell_type": "code",
   "execution_count": 7,
   "id": "3fc1588b",
   "metadata": {},
   "outputs": [],
   "source": [
    "btn_run = widgets.Button(description='Clasificar')"
   ]
  },
  {
   "cell_type": "code",
   "execution_count": 8,
   "id": "cf595623",
   "metadata": {},
   "outputs": [],
   "source": [
    "def on_click_classify(change):\n",
    "    img = PILImage.create(btn_upload.data[-1])\n",
    "    out_pl.clear_output()\n",
    "    with out_pl: display(img.to_thumb(128,128))\n",
    "    pred,indx,prob = spider_class.predict(img)\n",
    "    percent_ = prob[indx]*100\n",
    "    label_.value = f'Predicción: {pred}; Probababilidad: {percent_:.4f}'\n",
    "\n",
    "btn_run.on_click(on_click_classify)"
   ]
  },
  {
   "cell_type": "code",
   "execution_count": 9,
   "id": "31107d1d",
   "metadata": {},
   "outputs": [],
   "source": [
    "label_.value = ''\n",
    "\n",
    "btn_upload = widgets.FileUpload()"
   ]
  },
  {
   "cell_type": "code",
   "execution_count": 10,
   "id": "5894f050",
   "metadata": {},
   "outputs": [
    {
     "data": {
      "application/vnd.jupyter.widget-view+json": {
       "model_id": "2e4445c25e2149b1b0d16079b3e64efa",
       "version_major": 2,
       "version_minor": 0
      },
      "text/plain": [
       "VBox(children=(Label(value='Selecciona la foto de tu araña'), FileUpload(value={}, description='Upload'), Butt…"
      ]
     },
     "metadata": {},
     "output_type": "display_data"
    },
    {
     "data": {
      "text/html": [],
      "text/plain": [
       "<IPython.core.display.HTML object>"
      ]
     },
     "metadata": {},
     "output_type": "display_data"
    }
   ],
   "source": [
    "VBox([widgets.Label('Selecciona la foto de tu araña'), \n",
    "      btn_upload, btn_run, out_pl, label_])"
   ]
  }
 ],
 "metadata": {
  "kernelspec": {
   "display_name": "Python 3",
   "language": "python",
   "name": "python3"
  },
  "language_info": {
   "codemirror_mode": {
    "name": "ipython",
    "version": 3
   },
   "file_extension": ".py",
   "mimetype": "text/x-python",
   "name": "python",
   "nbconvert_exporter": "python",
   "pygments_lexer": "ipython3",
   "version": "3.8.8"
  }
 },
 "nbformat": 4,
 "nbformat_minor": 5
}
