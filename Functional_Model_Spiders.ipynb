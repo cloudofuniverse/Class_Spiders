{
 "cells": [
  {
   "cell_type": "markdown",
   "id": "bec24559",
   "metadata": {},
   "source": [
    "# ------------ Identificador de Arañas ------------"
   ]
  },
  {
   "cell_type": "code",
   "execution_count": 14,
   "id": "93e9eaef",
   "metadata": {},
   "outputs": [],
   "source": [
    "import pathlib, platform\n",
    "plt = platform.system()\n",
    "if plt == 'Linux': pathlib.WindowsPath = pathlib.PosixPath"
   ]
  },
  {
   "cell_type": "markdown",
   "id": "f585d91f",
   "metadata": {},
   "source": [
    "![\"Fuente: Wiki Commons\"](Spider_Banner.jpg \"Fuente: Wikimedia Commons\")"
   ]
  },
  {
   "cell_type": "markdown",
   "id": "8031ba24",
   "metadata": {},
   "source": [
    "## Bienvenidos a la herramienta de identificación de arañas! Sólo debes subir la imagen y darle al botón que dice \"Identificar!\""
   ]
  },
  {
   "cell_type": "markdown",
   "id": "cb06d6f6",
   "metadata": {},
   "source": [
    "##  <span style=\"color:#318CE7\">Recomendaciones</span>"
   ]
  },
  {
   "cell_type": "markdown",
   "id": "01201eee",
   "metadata": {},
   "source": [
    "* <span style=\"color:#1770c9\">Una buena identificacion requiere multiples fotos! Si bien una foto puede ser más que suficiente, te recomendamos que uses al menos dos fotos para hacer de la identificación un proceso más fiable. Si el resultado no cambia, lo más probable es que la identificación automática sea correcta.</span>\n",
    "\n",
    "* <span style=\"color:#318CE7\">Una buena foto es clave para una correcta identificación! Al igual que la identificación hecha por un humano, una mala foto puede hacer la diferencia. Asegúrate de que la foto que uses tenga buena iluminación, y de ser posible recórtala para centrar a la araña que desees identificar (La foto de arriba es un buen ejemplo).</span>\n",
    "\n",
    "* <span style=\"color:#1770c9\">Solo usa fotos de arañas! Puede sonar muy obvio, pero si subes una foto de un gato te podría sorprender que el clasificador le asigna una identificación. Esto es porque se basa en probabilidades. (Aunque bien puedes hacer caso omiso, y divertirte subiendo imágenes de objetos que no sean arañas.) </span>\n",
    "\n",
    "* <span style=\"color:#318CE7\">Utiliza un buscador o Inaturalist para corroborar el resultado!. Cruzar los datos con fuentes externas (y validadas) es una buena práctica a la hora de identificar arañas.</span>"
   ]
  },
  {
   "cell_type": "code",
   "execution_count": 1,
   "id": "af441e1a",
   "metadata": {},
   "outputs": [],
   "source": [
    "from ipywidgets import widgets\n",
    "from fastai.vision.all import PILImage\n",
    "from fastai.vision.all import load_learner\n",
    "from ipywidgets import VBox"
   ]
  },
  {
   "cell_type": "code",
   "execution_count": 2,
   "id": "e8278adb",
   "metadata": {},
   "outputs": [],
   "source": [
    "spider_class = load_learner('models/spider_class.pkl')"
   ]
  },
  {
   "cell_type": "code",
   "execution_count": 10,
   "id": "39f14431",
   "metadata": {},
   "outputs": [],
   "source": [
    "upload = widgets.FileUpload(accept='image/*',\n",
    "                            multiple=False)"
   ]
  },
  {
   "cell_type": "code",
   "execution_count": 4,
   "id": "c69f6cc5",
   "metadata": {},
   "outputs": [],
   "source": [
    "out_pl = widgets.Output()"
   ]
  },
  {
   "cell_type": "code",
   "execution_count": 5,
   "id": "1143a6da",
   "metadata": {},
   "outputs": [],
   "source": [
    "label = widgets.Label()\n",
    "label.value = ''"
   ]
  },
  {
   "cell_type": "code",
   "execution_count": 6,
   "id": "7dc804e7",
   "metadata": {},
   "outputs": [],
   "source": [
    "html_w = widgets.HTML()\n",
    "html_w.value = ''"
   ]
  },
  {
   "cell_type": "code",
   "execution_count": 7,
   "id": "3fc1588b",
   "metadata": {},
   "outputs": [],
   "source": [
    "btn_run = widgets.Button(description='Identificar!')\n",
    "btn_run.style.button_color = 'orange'"
   ]
  },
  {
   "cell_type": "code",
   "execution_count": 8,
   "id": "cf595623",
   "metadata": {},
   "outputs": [],
   "source": [
    "def on_click_classify(change):\n",
    "    img = PILImage.create(upload.data[-1])\n",
    "    out_pl.clear_output()\n",
    "    with out_pl: display(img.to_thumb(250,250))\n",
    "    pred,indx,prob = spider_class.predict(img)\n",
    "    percent_ = prob[indx]*100\n",
    "    if pred in ['Latrodectus', 'Loxosceles']:\n",
    "        label.value = f'Identificada como: {pred}; Probababilidad de Identificación Correcta: {percent_:.2f} %'\n",
    "        html_w.value=\"<p style='color:#18A558'>Es de Importancia Médica!</p>\"\n",
    "    else:\n",
    "        label.value = f'Identificada como: {pred}; Probababilidad de Identificación Correcta: {percent_:.2f} %'\n",
    "        html_w.value=\"<p style='color:#4169E1'>No es de Importancia Médica!</p>\"\n",
    "\n",
    "btn_run.on_click(on_click_classify)"
   ]
  },
  {
   "cell_type": "code",
   "execution_count": 9,
   "id": "5894f050",
   "metadata": {},
   "outputs": [
    {
     "data": {
      "application/vnd.jupyter.widget-view+json": {
       "model_id": "dc8f168f3436405da2886ba279e926b3",
       "version_major": 2,
       "version_minor": 0
      },
      "text/plain": [
       "VBox(children=(Label(value='Selecciona la foto de tu araña'), FileUpload(value={}, accept='image/*', descripti…"
      ]
     },
     "metadata": {},
     "output_type": "display_data"
    }
   ],
   "source": [
    "VBox([widgets.Label('Selecciona la foto de tu araña'), \n",
    "      upload, btn_run, out_pl, label, html_w])"
   ]
  },
  {
   "cell_type": "markdown",
   "id": "b4800603",
   "metadata": {},
   "source": [
    "### Cómo se hizo?"
   ]
  },
  {
   "cell_type": "markdown",
   "id": "02ff9099",
   "metadata": {},
   "source": [
    "El clasificador se construyó a partir de los reportes de observaciones más frecuentes en el sitio de inaturalist.org para el país de México. Y distingue indiferentemente entre Familias y Géneros de Arañas.\n",
    "\n",
    "* Familia **Anyphaenidae** (O _Arañas fantasma_) con **655** reportes de observación a la fecha*\n",
    "* Género **Araneus** (O _Arañas de jardín y granero_) con **377** reportes de observación a la fecha*\n",
    "* Género **Argiope** (O _Arañas tejedoras de Jardín_) con **4909** reportes de observación a la fecha*\n",
    "* Género **Cheiracanthium** con **219** reportes de observación a la fecha*\n",
    "* Género **Curicaberis** (O _Arañas cazadoras del Dios del Fuego_) con **655** reportes de observación a la fecha*\n",
    "* Familia **Dysderidae** (O _Arañas cazadoras_) con **276** reportes de observación a la fecha*\n",
    "* Género **Heteropoda** con **631** reportes de observación a la fecha*\n",
    "* Género **Kukulcania** con **1068** reportes de observación a la fecha*\n",
    "* Género **Latrodectus** (O _Viudas_) con **3860** reportes de observación a la fecha*\n",
    "* Género **Leucage** (O _Arañas de Rayas Blancas_) con **2910** reportes de observación a la fecha*\n",
    "* Género **Loxosceles** (O _Arañas violinistas_) con **694** reportes de observación a la fecha*\n",
    "* Familia **Lycosidae** (O _Arañas Lobo_) con **7305** reportes de observación a la fecha*\n",
    "* Género **Micrathena** (O _Arañas Espinosas_) con **1227** reportes de observación a la fecha*\n",
    "* Género **Neoscona** (O _Arañas Tejedoras Manchadas_) con **7378** reportes de observación a la fecha*\n",
    "* Género **Oxyopes** (O _Arañas Lince_) con **429** reportes de observación a la fecha*\n",
    "* Género **Peucetia** (O _Arañas Lince Verde_) con **3726** reportes de observación a la fecha*\n",
    "* Familia **Pholcidae** (O _Arañas patonas_) con **2826** reportes de observación a la fecha*\n",
    "* Familia **Salticidae** (O _Arañas Saltarinas_) con **17293** reportes de observación a la fecha*\n",
    "* Familia **Scytodidae** (O _Arañas Escupidoras_) con **1172** reportes de observación a la fecha*\n",
    "* Género **Selenops** (O _Arañas de Pared_) con **1158** reportes de observación a la fecha*\n",
    "* Género **Steatoda** (O _Arañas falsas viudas_) con **1910** reportes de observación a la fecha*\n",
    "* Género **Tetragnatha** (O _Arañas de quelíceros alargados_) con **703** reportes de observación a la fecha*\n",
    "* Familia **Theraphosidae** (O _Tarántulas_) con **6214** reportes de observación a la fecha*\n",
    "* Familia **Thomisidae** (O _Arañas Cagrejo_) con **4043** reportes de observación a la fecha*\n",
    "* Género **Trichonephila** con **2542** reportes de observación a la fecha*\n",
    "* Familia **Zoropsidae** (O _Falsas arañas lobo_) con **1114** reportes de observación a la fecha*"
   ]
  },
  {
   "cell_type": "markdown",
   "id": "467403a2",
   "metadata": {},
   "source": [
    "La distinción entre familias y géneros no es arbitraria. Es de interés por ejemplo, distinguir entre una **Steatoda** (o _falsa viuda_) y una **Latrodectus** (O _Viuda_), a pesar de que ambas son de la familia **Theridiidae**. En cambio dinstinguir entre las 177 especies reportadas a la fecha\\* en México de la Familia **Salticidae** (O _Arañas saltarinas_) carece de interés para el propósito de este clasificador, también, por ejemplo el distinguir entre las 80 especies reportadas hasta la fecha\\* de la Familia **Theraphosidae** (_Tarántulas_). Construir dicho clasificador para tales fines de distinción meticulosa sigue otros propósitos diferentes a éste.\n",
    "\n",
    "Entre las familias y géneros excluidos por este clasificador se encuentra el Género **Olios** (Familia _Sparassidae_ al igual que el Género **Heteropoda**), ya que en México solo tiene 169 reportes de observación a la fecha\\*, lo mismo pasa con el Género **Ariamnes** con 17 reportes de observación a la fecha\\*. También fue excluido el Género **Phoneutria** (_Arañas bananeras_), que a pesar de ser arañas de importancia médica y tener reportes de observación en Honduras y Belice (Países vecinos), en México tiene 0 reportes de observación a la fecha\\*, igualmente con el género **Sicarius** (_Arañas areneras_), con reportes de observación en países Sudamericanos, pero 0 a la fecha\\* en México."
   ]
  },
  {
   "cell_type": "markdown",
   "id": "333d5832",
   "metadata": {},
   "source": [
    "El clasificador se hizo en una red neuronal convolucional de 34 capas (ResNet34) pre-entrenada (Dataset: Imagenet) y re-entrenada en las ultimas capas, con la libreria para Python: **FastAi**. La página web fue desplegada usando Jupyter Notebook y Voilà, y está alojada en **Heroku**."
   ]
  },
  {
   "cell_type": "markdown",
   "id": "2d3eb620",
   "metadata": {},
   "source": [
    "###### *21 de Noviembre del 2021"
   ]
  },
  {
   "cell_type": "markdown",
   "id": "cf062308",
   "metadata": {},
   "source": [
    "##  <span style=\"color:#913831\">Advertencia!</span>"
   ]
  },
  {
   "cell_type": "markdown",
   "id": "0de03526",
   "metadata": {},
   "source": [
    "* <span style=\"color:#913831\">Este identificador no sustituye la opinión de un experto ni da un diagnóstico médico</span>\n",
    "* <span style=\"color:#913831\">Este identificador es falible y no incluye todas las familias, géneros, o especies de arañas que se han observado en México</span>\n",
    "* <span style=\"color:#913831\">Este identificador funciona como herramienta auxiliar en la identificación de arañas.</span>"
   ]
  }
 ],
 "metadata": {
  "kernelspec": {
   "display_name": "Python 3",
   "language": "python",
   "name": "python3"
  },
  "language_info": {
   "codemirror_mode": {
    "name": "ipython",
    "version": 3
   },
   "file_extension": ".py",
   "mimetype": "text/x-python",
   "name": "python",
   "nbconvert_exporter": "python",
   "pygments_lexer": "ipython3",
   "version": "3.8.8"
  }
 },
 "nbformat": 4,
 "nbformat_minor": 5
}
